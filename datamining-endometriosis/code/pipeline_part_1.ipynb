{
 "cells": [
  {
   "attachments": {},
   "cell_type": "markdown",
   "metadata": {},
   "source": [
    "### Running instructions\n",
    "\n",
    "1. Read the `README.md` file\n",
    "2. Place the data-files in the `data` directory\n",
    "3. Select a Python kernel for this Notebook\n",
    "4. Run all cells\n",
    "5. Wait ~10 min for full execution\n",
    "6. Go to `pipeline_part_2`"
   ]
  },
  {
   "cell_type": "code",
   "execution_count": null,
   "metadata": {},
   "outputs": [],
   "source": [
    "# External modules\n",
    "import os\n",
    "import sys\n",
    "\n",
    "# Local modules\n",
    "sys.path.append(os.getcwd())\n",
    "from python_utilities import *"
   ]
  },
  {
   "cell_type": "code",
   "execution_count": null,
   "metadata": {},
   "outputs": [],
   "source": [
    "'''\n",
    "EXTRACT QUESTION DETAILS FROM KOTLIN FILE AS PYTHON DICTIONARY\n",
    "'''\n",
    "\n",
    "input_filename = \"FemaleQuestionnaire.kt\"\n",
    "output_filename = \"questionnaire_structure.dict\"\n",
    "\n",
    "extract_questionnaire_structure(input_filename, output_filename)"
   ]
  },
  {
   "cell_type": "code",
   "execution_count": null,
   "metadata": {},
   "outputs": [],
   "source": [
    "'''\n",
    "BUILD DICTIONARY OF QUESTIONNAIRES\n",
    "'''\n",
    "\n",
    "input_filename = \"questionnaire_result\"\n",
    "output_filename = \"questionnaire_result.dict\"\n",
    "\n",
    "build_dictionary(input_filename, output_filename)"
   ]
  },
  {
   "cell_type": "code",
   "execution_count": null,
   "metadata": {},
   "outputs": [],
   "source": [
    "'''\n",
    "CREATE PANDAS DATAFRAME FROM PYTHON DICTIONARY\n",
    "'''\n",
    "\n",
    "input_filename = \"questionnaire_result.dict\"\n",
    "output_filename = \"questionnaire_result.df\"\n",
    "\n",
    "build_database(input_filename, output_filename)"
   ]
  },
  {
   "cell_type": "code",
   "execution_count": null,
   "metadata": {},
   "outputs": [],
   "source": [
    "'''\n",
    "GENERATE FIGURES\n",
    "\n",
    "NOTE: Execution time ~7 min (Wordclouds have an execution time of ~1 min each due to translation)\n",
    "'''\n",
    "\n",
    "questionnaire_result_filename = \"questionnaire_result.df\"\n",
    "questionnaire_structure_filename = \"questionnaire_structure.dict\"\n",
    "\n",
    "with open(data_path + questionnaire_result_filename, mode='rb') as data_file:\n",
    "    df = pickle.load(data_file)\n",
    "\n",
    "    endo_df = df[df['diagnosis'] == \"endometriosis\"]\n",
    "    no_diag_df = df[df['diagnosis'] == \"no_diagnosis\"]\n",
    "    other_df = df[df['diagnosis'] == \"other_diagnosis\"]\n",
    "\n",
    "    subset_labels = ['No diagnosis', 'Endometriosis', 'Other diagnosis']\n",
    "\n",
    "    questions = ['1', '2', '3', '4', '5', '6', '7', '8', '9', '10', \n",
    "             '11', '12', '13', '14', '15', '16', '17', '18', '19', '20', \n",
    "             '21', '22', '23', '24', '25', '26', '27', '28', '29', '30', \n",
    "             '31', '52', '53', '54', '55', '56', '101', '102', '180']\n",
    "    \n",
    "    for question in questions:\n",
    "        generate_figure(structure_filename = questionnaire_structure_filename,\n",
    "                        no_diag_df = no_diag_df,\n",
    "                        endo_df = endo_df,\n",
    "                        other_df = other_df,\n",
    "                        subset_labels = subset_labels,\n",
    "                        question_id = question)"
   ]
  },
  {
   "cell_type": "code",
   "execution_count": null,
   "metadata": {},
   "outputs": [],
   "source": [
    "import sys\n",
    "\n",
    "def asint(s):\n",
    "    try: return int(s), ''\n",
    "    except ValueError: return sys.maxsize, s\n",
    "\n",
    "a = {'100':'12','6':'5','88':'3','test':'34', '67':'7','1':'64' }\n",
    "sortedlist = [(k, a[k]) for k in sorted(a, key=asint)]\n",
    "print(sortedlist)\n"
   ]
  },
  {
   "cell_type": "code",
   "execution_count": null,
   "metadata": {},
   "outputs": [],
   "source": [
    "'''\n",
    "PEARSON'S CHI-SQUARED TEST OF HOMOGENITY\n",
    "'''\n",
    "\n",
    "questionnaire_result_filename = \"questionnaire_result.df\"\n",
    "questionnaire_structure_filename = \"questionnaire_structure.dict\"\n",
    "\n",
    "questions = ['2', '3', '6', '7', '8', '9', '10', '11','12','13','14','15',\n",
    "             '16','23','24','25','26','27','28','29','30','31','101','102']\n",
    "\n",
    "chi_df = chi_test(questionnaire_result_filename, questionnaire_structure_filename, questions)\n",
    "\n",
    "print(chi_df[['question_id', 'pvalue', 'H0', 'Result']].to_markdown(index=False))\n",
    "dfi.export(chi_df[['question_id', 'pvalue', 'H0', 'Result']].style.hide(axis='index'), media_path + 'chi_table.png', table_conversion=\"matplotlib\")"
   ]
  },
  {
   "cell_type": "code",
   "execution_count": null,
   "metadata": {},
   "outputs": [],
   "source": [
    "'''\n",
    "PRE-PROCESS DATABASE FOR ANALYSIS IN R PIPELINE\n",
    "NOTE: Execution time ~1min 30s due to value remapping\n",
    "'''\n",
    "\n",
    "data_filename = \"questionnaire_result.df\"\n",
    "structure_filename = \"questionnaire_structure.dict\"\n",
    "master_filename = \"questionnaire.csv\"\n",
    "food_filename = \"food.csv\"\n",
    "\n",
    "pre_process_database(data_filename, structure_filename, master_filename, food_filename)"
   ]
  }
 ],
 "metadata": {
  "kernelspec": {
   "display_name": "KEX",
   "language": "python",
   "name": "python3"
  },
  "language_info": {
   "codemirror_mode": {
    "name": "ipython",
    "version": 3
   },
   "file_extension": ".py",
   "mimetype": "text/x-python",
   "name": "python",
   "nbconvert_exporter": "python",
   "pygments_lexer": "ipython3",
   "version": "3.10.6"
  }
 },
 "nbformat": 4,
 "nbformat_minor": 2
}
